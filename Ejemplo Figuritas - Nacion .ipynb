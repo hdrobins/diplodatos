{
 "cells": [
  {
   "cell_type": "code",
   "execution_count": 4,
   "metadata": {},
   "outputs": [
    {
     "name": "stdout",
     "output_type": "stream",
     "text": [
      "Cuántos sobres se necesitan para llenar el album usando Python\n"
     ]
    }
   ],
   "source": [
    "print (\"Cuántos sobres se necesitan para llenar el album usando Python\")"
   ]
  },
  {
   "cell_type": "code",
   "execution_count": 5,
   "metadata": {},
   "outputs": [
    {
     "name": "stdout",
     "output_type": "stream",
     "text": [
      "1\n"
     ]
    }
   ],
   "source": [
    "import random\n",
    "\n",
    "#la funcion randint(a, b) devuelve un numero entero pseudo-aleatorio N talque \n",
    "#a <= N <= b. \n",
    "dado = random.randint(1, 6)\n",
    "\n",
    "print (dado)"
   ]
  },
  {
   "cell_type": "code",
   "execution_count": 7,
   "metadata": {},
   "outputs": [
    {
     "name": "stdout",
     "output_type": "stream",
     "text": [
      "[101, 201, 499, 345, 47]\n"
     ]
    }
   ],
   "source": [
    "#para modela(r el sobre utilizaremos la funcion sample. \n",
    "sobre = random.sample(range(669), 5)\n",
    "\n",
    "print (sobre)"
   ]
  },
  {
   "cell_type": "code",
   "execution_count": 8,
   "metadata": {},
   "outputs": [],
   "source": [
    "import numpy as np\n",
    "import matplotlib.pyplot as plt"
   ]
  },
  {
   "cell_type": "code",
   "execution_count": 9,
   "metadata": {},
   "outputs": [],
   "source": [
    "#las constantes de la simulacion\n",
    "FIGURITAS_POR_PAQUETE = 5\n",
    "FIGURITAS_POR_ALBUM = 669\n",
    "CANTIDAD_DE_CORRIDAS = 1000"
   ]
  },
  {
   "cell_type": "code",
   "execution_count": 10,
   "metadata": {},
   "outputs": [],
   "source": [
    "#inicializo el vector simulacion\n",
    "#alli voy a ir registrando cuantos sobres necesito en cada corrida\n",
    "simulacion = np.empty(CANTIDAD_DE_CORRIDAS)"
   ]
  },
  {
   "cell_type": "code",
   "execution_count": 42,
   "metadata": {},
   "outputs": [],
   "source": [
    "#voy a realizar tantas corridas como dice la constante CANTIDAD_DE_CORRIDAS\n",
    "for i in range(CANTIDAD_DE_CORRIDAS):\n",
    "\n",
    "\t#modelo el album vacio como un vector lleno de ceros\n",
    "\talbum = np.zeros(FIGURITAS_POR_ALBUM, dtype=int)\n",
    "\n",
    "\t#en esta variable contabilizare cuantos sobres se necesitan \n",
    "\tcantidad_de_sobres = 0\n",
    "\n",
    "\t#voy abriendo sobres nuevos hasta llenar el album\n",
    "\t#si el vector contiene algun 0 en alguna posicion significa \n",
    "\t#que aun no esta completo esa condicion la podemos expresar de muchas \n",
    "\t#formas la que elegi es min(album) == 0, \n",
    "\t#tambien podria ser len(album[album == 0]) > 0 \n",
    "\twhile min(album) == 0:\n",
    "\n",
    "\t\t#un nuevo sobre formado por figuritas tomadas de manera aleatoria\n",
    "\t\tsobre = random.sample(range(FIGURITAS_POR_ALBUM), FIGURITAS_POR_PAQUETE)\n",
    "\n",
    "\t\t#voy llenando el album\n",
    "\t\t#sumo 1 en cada posicion correspondiente a cada una de las figuritas \n",
    "    #del sobre\n",
    "    #\n",
    "    #Nota: para quienes conocen otros lenguajes de programacion, esta \n",
    "    #operacion puede llegar a causar confusion. La libreria NumPy permite\n",
    "    #realizar operaciones sobre multiples indices a la vez. \n",
    "    #Aprovechenla, es muy util.\n",
    "\t\talbum[sobre] += 1\n",
    "\n",
    "\t\t#incremento la cantidad de sobres en 1\n",
    "\t\tcantidad_de_sobres += 1\n",
    "\n",
    "\t#para llenar este album he necesitado tantos sobres como \n",
    "  #lo dice cantidad_de_sobres\n",
    "\tsimulacion[i] = cantidad_de_sobres\n"
   ]
  },
  {
   "cell_type": "code",
   "execution_count": 32,
   "metadata": {},
   "outputs": [
    {
     "data": {
      "image/png": "[encoded data removed]",
      "text/plain": [
       "<Figure size 432x288 with 1 Axes>"
      ]
     },
     "metadata": {},
     "output_type": "display_data"
    }
   ],
   "source": [
    "#cuantos sobres necesitamos en promedio para llenar el album\n",
    "sobres_promedio = simulacion.mean()\n",
    "\n",
    "#visualizamos la simulacion con un histograma de las corridas\n",
    "plt.hist(simulacion, bins=50)\n",
    "plt.axvline(sobres_promedio, color='r')\n",
    "plt.legend([\"%.2f sobres\" % sobres_promedio])\n",
    "plt.title(\"Cantidad de sobres en promedio para llenar 1 album\")\n",
    "plt.show()"
   ]
  },
  {
   "cell_type": "code",
   "execution_count": 44,
   "metadata": {},
   "outputs": [
    {
     "name": "stdout",
     "output_type": "stream",
     "text": [
      "Llenar el album costará... 14285 pesos. Y qué hago con las 4092 repetidas!\n"
     ]
    }
   ],
   "source": [
    "print (\"Llenar el album costará... %2.f pesos. Y qué hago con las %d repetidas!\" % (sobres_promedio * 15, sobres_promedio * FIGURITAS_POR_PAQUETE - FIGURITAS_POR_ALBUM))"
   ]
  },
  {
   "cell_type": "code",
   "execution_count": 45,
   "metadata": {},
   "outputs": [],
   "source": [
    "#pensemos un grupo de 20 amigos que se juntan para llenar cada uno su album\n",
    "CANTIDAD_DE_ALBUMES = 20"
   ]
  },
  {
   "cell_type": "code",
   "execution_count": 46,
   "metadata": {},
   "outputs": [],
   "source": [
    "#inicializo el vector simulacion_grupo con 2 dimensiones \n",
    "simulacion_grupo = np.zeros([CANTIDAD_DE_ALBUMES+1,\n",
    "                             CANTIDAD_DE_CORRIDAS], dtype=int)\n"
   ]
  },
  {
   "cell_type": "code",
   "execution_count": 49,
   "metadata": {},
   "outputs": [],
   "source": [
    "#voy a realizar muchas corridas, tantas como dice la constante CANTIDAD_DE_CORRIDAS\n",
    "for i in range(CANTIDAD_DE_CORRIDAS):\n",
    "\n",
    "  #modelo el album vacio como un vector lleno de ceros\n",
    "  album = np.zeros(FIGURITAS_POR_ALBUM, dtype=int)\n",
    "\n",
    "  #en esta variable contabilizare cuantos sobres se necesitan para llenar 1..n albumes\n",
    "  cantidad_de_sobres = 0\n",
    "\n",
    "  #aqui voy a contabilizar cuando albumes estan llenos\n",
    "  albumes_llenos = 0\n",
    "\n",
    "  #a diferencia de la simulacion anterior, la condicion de corte sera cuando se \n",
    "  #llenen los n albumes. Eso lo podemos expresar asi:\n",
    "\t#albumes_llenos < CANTIDAD_DE_ALBUMES\n",
    "  while albumes_llenos < CANTIDAD_DE_ALBUMES:\n",
    "\n",
    "    #un nuevo sobre formado por figuritas tomadas de manera aleatoria\n",
    "    sobre = random.sample(range(FIGURITAS_POR_ALBUM), FIGURITAS_POR_PAQUETE)\n",
    "\n",
    "    #voy llenando los albumes\n",
    "    album[sobre] += 1\n",
    "\n",
    "    #incremento la cantidad de sobres en 1\n",
    "    cantidad_de_sobres += 1\n",
    "\n",
    "    #si el min(album) se incremento, significa que se ha llenado un nuevo album. \n",
    "    if albumes_llenos < min(album):\n",
    "      #hemos llenado un album nuevo\n",
    "      albumes_llenos = min(album)\n",
    "\n",
    "      #registramos la cantidad de sobres\n",
    "      simulacion_grupo[albumes_llenos, i] = cantidad_de_sobres"
   ]
  },
  {
   "cell_type": "code",
   "execution_count": 50,
   "metadata": {},
   "outputs": [
    {
     "data": {
      "text/plain": [
       "Text(0.5,0.98,'Cantidad de sobres en promedio para llenar $n$ albumes')"
      ]
     },
     "execution_count": 50,
     "metadata": {},
     "output_type": "execute_result"
    },
    {
     "data": {
      "image/png": "[encoded data removed]",
      "text/plain": [
       "<Figure size 432x288 with 4 Axes>"
      ]
     },
     "metadata": {},
     "output_type": "display_data"
    }
   ],
   "source": [
    "#cuantos sobres necesitamos en promedio para llenar n-albumes\n",
    "#usamos una matriz de histogramas\n",
    "\n",
    "amigos = [2, 5, 10, 20]\n",
    "\n",
    "fig, axes = plt.subplots(nrows=2, ncols=2, sharey=True, sharex=True)\n",
    "\n",
    "for ax, q in zip(axes.flat, amigos):\n",
    "  simulacion = simulacion_grupo[q]/q\n",
    "  sobres_promedio = simulacion.mean()\n",
    "  ax.set_title('$albumes=%d $' % (q))\n",
    "  ax.hist(simulacion, bins=50)\n",
    "  ax.axvline(sobres_promedio, color='r')\n",
    "  ax.legend([\"%.2f sobres\" % sobres_promedio])\n",
    "\n",
    "fig.suptitle(\"Cantidad de sobres en promedio para llenar $n$ albumes\")"
   ]
  }
 ],
 "metadata": {
  "kernelspec": {
   "display_name": "Python [conda env:diplodatos-ayv]",
   "language": "python",
   "name": "conda-env-diplodatos-ayv-py"
  },
  "language_info": {
   "codemirror_mode": {
    "name": "ipython",
    "version": 3
   },
   "file_extension": ".py",
   "mimetype": "text/x-python",
   "name": "python",
   "nbconvert_exporter": "python",
   "pygments_lexer": "ipython3",
   "version": "3.5.5"
  }
 },
 "nbformat": 4,
 "nbformat_minor": 2
}
